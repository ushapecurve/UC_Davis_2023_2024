{
 "cells": [
  {
   "cell_type": "markdown",
   "id": "8c3c996b",
   "metadata": {},
   "source": [
    "# Week 2 - Homework\n",
    "\n",
    "## Task 1.A (25 pts)\n",
    "\n",
    "Let's implement the `yell()` function. This function takes a string as input, converts the text in that string to all capital letters, appends three exclamation points to the text, and then returns the text.\n",
    "\n",
    "For example, after executing the code `loud_laughter = yell('lol')` the variable `loud_laughter` should contain the string `'LOL!!!'` .\n",
    "\n",
    "Here is some code to get you started. I recommend you manually type out the code in the cell below instead of copy/pasting it in order to better internalize the content and structure of the code. (You do not need to duplicate the comments, they are just there to guide your work.)\n",
    "```\n",
    "def yell(text):\n",
    "    big_text = __________  # Do something with: text\n",
    "    result = __________    # Do something with: big_text\n",
    "    return __________      # Do something with: result\n",
    "````\n",
    "\n",
    "Hints:\n",
    "- You can do this using only the tools we have covered so far. Importantly, you will need to look up [string methods](https://docs.python.org/3/library/stdtypes.html#string-methods) in the Python documentation.\n",
    "- This function should not display anything, so the solution will *not* include `print()` .\n",
    "- This function should not ask the user a question, so the solution will *not* include `input()` ."
   ]
  },
  {
   "cell_type": "code",
   "execution_count": 6,
   "id": "df260f57",
   "metadata": {},
   "outputs": [
    {
     "name": "stdout",
     "output_type": "stream",
     "text": [
      "3.9.13 (main, Aug 25 2022, 23:51:50) [MSC v.1916 64 bit (AMD64)]\n",
      "HOW ARE YOU?!!!\n"
     ]
    }
   ],
   "source": [
    "# Your code should include the complete function definition and\n",
    "# implementation for yell(). This code should execute without\n",
    "# syntax errors and without raising exceptions at runtime.\n",
    "#\n",
    "# Enter your code for Task 1.A below this comment:\n",
    "\n",
    "# Just for myself, asking python version.\n",
    "import sys\n",
    "import platform\n",
    "print(sys.version)\n",
    "\n",
    "def yell(input_text):\n",
    "    big_text = input_text.upper()\n",
    "    result = big_text + \"!!!\"\n",
    "    return result \n",
    "\n",
    "print(yell(\"how are you?\"))\n",
    "\n",
    " \n",
    "# Question: what if somebody will try to pass int type into yell() function?\n",
    "# How can I protect my code against such misuse?\n",
    "# Shall I use an exception?  I cannot figure out how to do it.\n"
   ]
  },
  {
   "cell_type": "markdown",
   "id": "ed8e8643",
   "metadata": {},
   "source": [
    "## Task 1.B (20 pts)\n",
    "\n",
    "Now that you have written the `yell()` function with each small step on its own line of code in task 1.A, write the function in the cell below with just one line for the function body.\n",
    "\n",
    "Your solution to Task 1.B should look like this:\n",
    "```\n",
    "def yell(text):\n",
    "    return __________  # Just one line of code inside the function.\n",
    "```"
   ]
  },
  {
   "cell_type": "code",
   "execution_count": 9,
   "id": "1198f747",
   "metadata": {},
   "outputs": [
    {
     "name": "stdout",
     "output_type": "stream",
     "text": [
      "HOW ARE YOU?!!!\n"
     ]
    }
   ],
   "source": [
    "# Your code should include the complete function definition and\n",
    "# implementation for yell(). This code should execute without\n",
    "# syntax errors and without raising exceptions at runtime.\n",
    "#\n",
    "# Enter your code for Problem 1.B below this comment:\n",
    "\n",
    "def yell(input_text):\n",
    "    return input_text.upper()  + \"!!!\"\n",
    "  \n",
    "\n",
    "print(yell(\"how are you?\"))\n"
   ]
  },
  {
   "cell_type": "markdown",
   "id": "71065445",
   "metadata": {},
   "source": [
    "## Task 1.C (15 pts)\n",
    "\n",
    "Let's make sure that `yell()` works as expected.\n",
    "\n",
    "One test case has been provided for you. Write three more test cases below it on the lines provided.\n",
    "\n",
    "Note: Until you define the function `yell()` above, executing the sample test case will raise a NameError exception."
   ]
  },
  {
   "cell_type": "code",
   "execution_count": 19,
   "id": "8cfdc581",
   "metadata": {},
   "outputs": [
    {
     "name": "stdout",
     "output_type": "stream",
     "text": [
      "LOL!!!\n",
      "THE AI TEAM, WHICH WAS UPLOADING TRAINING DATA!!!\n",
      " TO LET OTHER RESEARCHERS TRAIN AI MODELS FOR IMAGE RECOGNITION!!!\n",
      "FREE ENCRYPTED EMAIL AND CALENDAR!!!\n"
     ]
    }
   ],
   "source": [
    "# Example test case:\n",
    "print(yell('lol'))  # Expected output: LOL!!!\n",
    "\n",
    "# Test case No. 1:\n",
    "print(yell('The AI team, which was uploading training data'))\n",
    "\n",
    "# Test case No. 2:\n",
    "print(yell(' to let other researchers train AI models for image recognition'))\n",
    "\n",
    "# Test case No. 3:\n",
    "print(yell('Free encrypted email and calendar'))"
   ]
  },
  {
   "cell_type": "markdown",
   "id": "7e1c083f",
   "metadata": {},
   "source": [
    "## Task 2 (10 pts)\n",
    "\n",
    "Last week we looked at applying arithmetic operators (e.g. `+ - * /` ) to operands of different data types. We saw that any combination of an int and a float resulted in a float, because the integer value was *promoted* to a float before the computer's hardware could perform the operation. We also saw that we can use the string repeat operator `*` between a string and an int (e.g. `'=' * 10`).\n",
    "\n",
    "Execute the following code:\n",
    "```\n",
    "print(1, True + 4)\n",
    "print(2, -7 + True)\n",
    "print(3, False + 5.5)\n",
    "print(4, 8.9 - False)\n",
    "print(5, '|' + \"ABC\" * True + '|')  # Use pipes to clearly indicate the result.\n",
    "print(6, '|' + \"ABC\" * False + '|')  # Use pipes to clearly indicate the result.\n",
    "```\n",
    "\n",
    "What does this tell you about the `bool` data type?"
   ]
  },
  {
   "cell_type": "code",
   "execution_count": 11,
   "id": "2637bd53",
   "metadata": {},
   "outputs": [
    {
     "name": "stdout",
     "output_type": "stream",
     "text": [
      "1 5\n",
      "2 -6\n",
      "3 5.5\n",
      "4 8.9\n",
      "5 |ABC|\n",
      "6 ||\n"
     ]
    }
   ],
   "source": [
    "print(1, True + 4)\n",
    "print(2, -7 + True)\n",
    "print(3, False + 5.5)\n",
    "print(4, 8.9 - False)\n",
    "print(5, '|' + \"ABC\" * True + '|')  # Use pipes to clearly indicate the result.\n",
    "print(6, '|' + \"ABC\" * False + '|')  # Use pipes to clearly indicate the result."
   ]
  },
  {
   "cell_type": "markdown",
   "id": "29cfa3ce",
   "metadata": {},
   "source": [
    "ANSWER 2: \n",
    "False is included as 0 in mathematical operations.\n",
    "True is included as 1 in mathematical operations."
   ]
  },
  {
   "cell_type": "markdown",
   "id": "b6ef5e02",
   "metadata": {},
   "source": [
    "## Task 3 (30 pts)\n",
    "\n",
    "Let's say I did not want to have to write `isinstance(___, int)` every time I wanted to check if a variable contains an integer. Instead, I would like something short and easy, such as `is_int(___)` .\n",
    "\n",
    "Define and implement a new function called `is_int` which takes one parameter. This function should return `True` when the argument provided by the caller is an `int`, and False otherwise.\n",
    "\n",
    "Examples of how this function could be used:\n",
    "```\n",
    "value_1 = 12321\n",
    "print(\"Is\", value_1, \"an int?\", is_int(value_1))\n",
    "value_2 = -12321\n",
    "print(\"Is\", value_2, \"an int?\", is_int(value_2))\n",
    "value_3 = None\n",
    "print(\"Is\", value_3, \"an int?\", is_int(value_3))\n",
    "```\n",
    "\n",
    "Hints:\n",
    "- You can do this using only the tools we have covered so far.\n",
    "- This function should not display anything, so the solution will *not* include `print()` .\n",
    "- This function should not ask the user a question, so the solution will *not* include `input()` ."
   ]
  },
  {
   "cell_type": "code",
   "execution_count": 18,
   "id": "0ef7986d",
   "metadata": {},
   "outputs": [
    {
     "name": "stdout",
     "output_type": "stream",
     "text": [
      "Is 12321 an int? True\n",
      "Is -12321 an int? True\n",
      "Is None an int? False\n",
      "Is 12.321 an int? False\n",
      "Is -12321 an int? False\n",
      "Is (3, 8, 65) an int? False\n",
      "Is True an int? True\n",
      "Is False an int? True\n"
     ]
    }
   ],
   "source": [
    "# Enter your code for Task 3 here:\n",
    "def is_int(input_number):\n",
    "    return isinstance(input_number, int)   # is IsInstance() and isinstance() the same in python?\n",
    "    \n",
    "value_1 = 12321\n",
    "print(\"Is\", value_1, \"an int?\", is_int(value_1))\n",
    "value_2 = -12321\n",
    "print(\"Is\", value_2, \"an int?\", is_int(value_2))\n",
    "value_3 = None\n",
    "print(\"Is\", value_3, \"an int?\", is_int(value_3))\n",
    "value_4 = 12.321\n",
    "print(\"Is\", value_4, \"an int?\", is_int(value_4))\n",
    "value_5 = \"-12321\"\n",
    "print(\"Is\", value_5, \"an int?\", is_int(value_5))\n",
    "value_6 = (3, 8, 65)\n",
    "print(\"Is\", value_6, \"an int?\", is_int(value_6))\n",
    "value_7 = True\n",
    "print(\"Is\", value_7, \"an int?\", is_int(value_7))\n",
    "value_8 = False\n",
    "print(\"Is\", value_8, \"an int?\", is_int(value_8))"
   ]
  }
 ],
 "metadata": {
  "kernelspec": {
   "display_name": "Python 3 (ipykernel)",
   "language": "python",
   "name": "python3"
  },
  "language_info": {
   "codemirror_mode": {
    "name": "ipython",
    "version": 3
   },
   "file_extension": ".py",
   "mimetype": "text/x-python",
   "name": "python",
   "nbconvert_exporter": "python",
   "pygments_lexer": "ipython3",
   "version": "3.9.13"
  }
 },
 "nbformat": 4,
 "nbformat_minor": 5
}
