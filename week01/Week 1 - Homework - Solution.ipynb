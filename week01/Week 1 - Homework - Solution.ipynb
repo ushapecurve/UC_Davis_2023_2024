{
 "cells": [
  {
   "cell_type": "markdown",
   "id": "3745949e",
   "metadata": {},
   "source": [
    "# Week 1 - Homework\n",
    "\n",
    "Double-click on the cells that say `ANSWER N:` (e.g. `ANSWER 1:`) to type your answer, leaving the prompt in place. For example, if the answer to question -8 were `yes` the cell should contain the text: `ANSWER -8: yes`\n",
    "\n",
    "To lock in a cell with text, just execute it with *CTRL+ENTER* (or *CMD+ENTER* on MacOS).\n",
    "\n",
    "When you are done with this assignment, go to *File* > *Download as...* > *Python (.py)* and save your Python file. Then submit your .py file to the assignment on Canvas.\n",
    "\n",
    "## Task 1\n",
    "\n",
    "Execute the following code and answer the questions below."
   ]
  },
  {
   "cell_type": "code",
   "execution_count": null,
   "id": "6ca33eb5",
   "metadata": {},
   "outputs": [],
   "source": [
    "print(3 + 4)\n",
    "print(3.0 + 4)\n",
    "print(3 + 4.0)\n",
    "print(3.0 + 4.0)\n",
    "print()\n",
    "print(3 - 4)\n",
    "print(3.0 - 4)\n",
    "print(3 - 4.0)\n",
    "print(3.0 - 4.0)\n",
    "print()\n",
    "print(3 * 4)\n",
    "print(3.0 * 4)\n",
    "print(3 * 4.0)\n",
    "print(3.0 * 4.0)"
   ]
  },
  {
   "cell_type": "markdown",
   "id": "ddbefd25",
   "metadata": {},
   "source": [
    "QUESTION 1: What is the result of adding, subtracting, or multiplying two ints? (8 pts)"
   ]
  },
  {
   "cell_type": "markdown",
   "id": "36b3cd3e",
   "metadata": {},
   "source": [
    "**ANSWER 1:** int"
   ]
  },
  {
   "cell_type": "markdown",
   "id": "e9e944eb",
   "metadata": {},
   "source": [
    "QUESTION 2: What is the result of adding, subtracting, or multiplying two floats? (8 pts)"
   ]
  },
  {
   "cell_type": "markdown",
   "id": "219fd67f",
   "metadata": {},
   "source": [
    "**ANSWER 2:** float"
   ]
  },
  {
   "cell_type": "markdown",
   "id": "81923ff4",
   "metadata": {},
   "source": [
    "QUESTION 3: What is the result of adding, subtracting, or multiplying a float and an int? Does the order matter? (9 pts)"
   ]
  },
  {
   "cell_type": "markdown",
   "id": "67c19880",
   "metadata": {},
   "source": [
    "**ANSWER 3:** float, no"
   ]
  },
  {
   "cell_type": "markdown",
   "id": "54bcd2a4",
   "metadata": {},
   "source": [
    "## Task 2\n",
    "\n",
    "Execute the following code and answer the questions below."
   ]
  },
  {
   "cell_type": "code",
   "execution_count": null,
   "id": "218df93e",
   "metadata": {},
   "outputs": [],
   "source": [
    "print(35 / 5)\n",
    "print(35.0 / 5)\n",
    "print(35 / 5.0)\n",
    "print(35.0 / 5.0)\n",
    "print()\n",
    "print(35 // 5)\n",
    "print(35.0 // 5)\n",
    "print(35 // 5.0)\n",
    "print(35.0 // 5.0)\n",
    "print()\n",
    "print(35 % 5)\n",
    "print(35.0 % 5)\n",
    "print(35 % 5.0)\n",
    "print(35.0 % 5.0)"
   ]
  },
  {
   "cell_type": "markdown",
   "id": "b2beee26",
   "metadata": {},
   "source": [
    "QUESTION 4: What is the result of \\[true / regular\\] division on two ints? (8 pts)"
   ]
  },
  {
   "cell_type": "markdown",
   "id": "8d83eb46",
   "metadata": {},
   "source": [
    "**ANSWER 4:** float"
   ]
  },
  {
   "cell_type": "markdown",
   "id": "9e996d97",
   "metadata": {},
   "source": [
    "QUESTION 5: What is the result of \\[true / regular\\] division on two floats? (8 pts)"
   ]
  },
  {
   "cell_type": "markdown",
   "id": "44049085",
   "metadata": {},
   "source": [
    "**ANSWER 5:** float"
   ]
  },
  {
   "cell_type": "markdown",
   "id": "372d2450",
   "metadata": {},
   "source": [
    "QUESTION 6: What is the result of \\[true / regular\\] division on a float and an int? Does the order matter? (9 pts)"
   ]
  },
  {
   "cell_type": "markdown",
   "id": "b697e74b",
   "metadata": {},
   "source": [
    "**ANSWER 6:** float, no"
   ]
  },
  {
   "cell_type": "markdown",
   "id": "aa5c87c8",
   "metadata": {},
   "source": [
    "QUESTION 7: What is the result of floor division or modulus on two ints? (8 pts)"
   ]
  },
  {
   "cell_type": "markdown",
   "id": "1338c48f",
   "metadata": {},
   "source": [
    "**ANSWER 7:** int"
   ]
  },
  {
   "cell_type": "markdown",
   "id": "2497eb69",
   "metadata": {},
   "source": [
    "QUESTION 8: What is the result of floor division or modulus on two floats? (8 pts)"
   ]
  },
  {
   "cell_type": "markdown",
   "id": "bf1564cc",
   "metadata": {},
   "source": [
    "**ANSWER 8:** float"
   ]
  },
  {
   "cell_type": "markdown",
   "id": "e21dcd1b",
   "metadata": {},
   "source": [
    "QUESTION 9: What is the result of floor division or modulus on a float and an int? Does the order matter? (9 pts)"
   ]
  },
  {
   "cell_type": "markdown",
   "id": "4fde37cc",
   "metadata": {},
   "source": [
    "**ANSWER 9:** float, no"
   ]
  },
  {
   "cell_type": "markdown",
   "id": "ae933ebf",
   "metadata": {},
   "source": [
    "## Task 3\n",
    "\n",
    "Write your own code to answer the question below."
   ]
  },
  {
   "cell_type": "code",
   "execution_count": null,
   "id": "0bec9473",
   "metadata": {},
   "outputs": [],
   "source": [
    "# YOUR CODE HERE\n",
    "x = \"abc\"\n",
    "y = \"def\"\n",
    "print(\"+\", x + y)  # this works\n",
    "print(\"-\", x - y)  # raises exception, must comment it out\n",
    "print(\"*\", x * y)  # raises exception, must comment it out\n",
    "print(\"/\", x / y)  # raises exception, must comment it out\n",
    "print(\"//\", x // y)  # raises exception, must comment it out\n",
    "print(\"%\", x % y)  # raises exception, must comment it out"
   ]
  },
  {
   "cell_type": "markdown",
   "id": "a382ad76",
   "metadata": {},
   "source": [
    "QUESTION 10: Which of the arithmetic operators we have covered can be used on two strings? (e.g. `'hello' % 'world'`) (7 pts)"
   ]
  },
  {
   "cell_type": "markdown",
   "id": "3a0717e3",
   "metadata": {},
   "source": [
    "**ANSWER 10:** + only"
   ]
  },
  {
   "cell_type": "markdown",
   "id": "99b32758",
   "metadata": {},
   "source": [
    "## Task 4\n",
    "\n",
    "Write your own code to answer the question below."
   ]
  },
  {
   "cell_type": "code",
   "execution_count": null,
   "id": "b9ab507b",
   "metadata": {},
   "outputs": [],
   "source": [
    "# YOUR CODE HERE\n",
    "x = \"abc\"\n",
    "y = 5\n",
    "print(\"+\", x + y)  # raises exception, must comment it out\n",
    "print(\"-\", x - y)  # raises exception, must comment it out\n",
    "print(\"*\", x * y)  # this works\n",
    "print(\"/\", x / y)  # raises exception, must comment it out\n",
    "print(\"//\", x // y)  # raises exception, must comment it out\n",
    "print(\"%\", x % y)  # raises exception, must comment it out\n",
    "\n",
    "x = 7\n",
    "y = \"def\"\n",
    "print(\"+\", x + y)  # raises exception, must comment it out\n",
    "print(\"-\", x - y)  # raises exception, must comment it out\n",
    "print(\"*\", x * y)  # this works\n",
    "print(\"/\", x / y)  # raises exception, must comment it out\n",
    "print(\"//\", x // y)  # raises exception, must comment it out\n",
    "print(\"%\", x % y)  # raises exception, must comment it out"
   ]
  },
  {
   "cell_type": "markdown",
   "id": "da16dad1",
   "metadata": {},
   "source": [
    "QUESTION 11: Which of the arithmetic operators we have covered can be used on a string and an int? Does the order matter? (e.g. `'hello' % 7` and `7 % 'hello'`) (9 pts)"
   ]
  },
  {
   "cell_type": "markdown",
   "id": "4a071555",
   "metadata": {},
   "source": [
    "**ANSWER 11:** * only, no"
   ]
  },
  {
   "cell_type": "markdown",
   "id": "e74e4d73",
   "metadata": {},
   "source": [
    "## Task 5\n",
    "\n",
    "Write your own code to answer the question below."
   ]
  },
  {
   "cell_type": "code",
   "execution_count": null,
   "id": "efa2240c",
   "metadata": {},
   "outputs": [],
   "source": [
    "# YOUR CODE HERE\n",
    "x = \"abc\"\n",
    "y = 5.0\n",
    "print(\"+\", x + y)  # raises exception, must comment it out\n",
    "print(\"-\", x - y)  # raises exception, must comment it out\n",
    "print(\"*\", x * y)  # raises exception, must comment it out\n",
    "print(\"/\", x / y)  # raises exception, must comment it out\n",
    "print(\"//\", x // y)  # raises exception, must comment it out\n",
    "print(\"%\", x % y)  # raises exception, must comment it out\n",
    "\n",
    "x = 7.0\n",
    "y = \"def\"\n",
    "print(\"+\", x + y)  # raises exception, must comment it out\n",
    "print(\"-\", x - y)  # raises exception, must comment it out\n",
    "print(\"*\", x * y)  # raises exception, must comment it out\n",
    "print(\"/\", x / y)  # raises exception, must comment it out\n",
    "print(\"//\", x // y)  # raises exception, must comment it out\n",
    "print(\"%\", x % y)  # raises exception, must comment it out"
   ]
  },
  {
   "cell_type": "markdown",
   "id": "fdb2a7ec",
   "metadata": {},
   "source": [
    "QUESTION 12: Which of the arithmetic operators we have covered can be used on a string and an float? Does the order matter? (e.g. `'hello' % 5.2` and `5.2 % 'hello'`) (9 pts)"
   ]
  },
  {
   "cell_type": "markdown",
   "id": "f8027519",
   "metadata": {},
   "source": [
    "**ANSWER 12:** none, not applicable"
   ]
  },
  {
   "cell_type": "markdown",
   "id": "a2b7cec3",
   "metadata": {},
   "source": [
    "**REMINDER:** When you are done with this assignment, go to *File* > *Download as...* > *Python (.py)* and save your Python file. Then submit your .py file to the assignment on Canvas."
   ]
  }
 ],
 "metadata": {
  "kernelspec": {
   "display_name": "Python 3 (ipykernel)",
   "language": "python",
   "name": "python3"
  },
  "language_info": {
   "codemirror_mode": {
    "name": "ipython",
    "version": 3
   },
   "file_extension": ".py",
   "mimetype": "text/x-python",
   "name": "python",
   "nbconvert_exporter": "python",
   "pygments_lexer": "ipython3",
   "version": "3.11.4"
  }
 },
 "nbformat": 4,
 "nbformat_minor": 5
}
