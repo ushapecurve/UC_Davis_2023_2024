{
 "cells": [
  {
   "cell_type": "markdown",
   "id": "3745949e",
   "metadata": {},
   "source": [
    "# Week 1 - Homework\n",
    "\n",
    "Double-click on the cells that say `ANSWER N:` (e.g. `ANSWER 1:`) to type your answer, leaving the prompt in place. For example, if the answer to question -8 were `yes` the cell should contain the text: `ANSWER -8: yes`\n",
    "\n",
    "To lock in a cell with text, just execute it with *CTRL+ENTER* (or *CMD+ENTER* on MacOS).\n",
    "\n",
    "When you are done with this assignment, go to *File* > *Download as...* > *Python (.py)* and save your Python file. Then submit your .py file to the assignment on Canvas.\n",
    "\n",
    "## Task 1\n",
    "\n",
    "Execute the following code and answer the questions below."
   ]
  },
  {
   "cell_type": "code",
   "execution_count": 4,
   "id": "6ca33eb5",
   "metadata": {},
   "outputs": [
    {
     "name": "stdout",
     "output_type": "stream",
     "text": [
      "7 int and int\n",
      "7.0 float and int\n",
      "7.0 int and float\n",
      "7.0 float and float\n",
      "\n",
      "-1 int and int\n",
      "-1.0 float and int\n",
      "-1.0 int and float\n",
      "-1.0 float and float\n",
      "\n",
      "12 int and int\n",
      "12.0 float and int\n",
      "12.0 int and float\n",
      "12.0 float and float\n"
     ]
    }
   ],
   "source": [
    "print(3 + 4, \"int and int\")\n",
    "print(3.0 + 4, \"float and int\")\n",
    "print(3 + 4.0, \"int and float\")\n",
    "print(3.0 + 4.0, \"float and float\")\n",
    "print()\n",
    "print(3 - 4, \"int and int\")\n",
    "print(3.0 - 4, \"float and int\")\n",
    "print(3 - 4.0, \"int and float\")\n",
    "print(3.0 - 4.0, \"float and float\")\n",
    "print()\n",
    "print(3 * 4, \"int and int\")\n",
    "print(3.0 * 4, \"float and int\")\n",
    "print(3 * 4.0, \"int and float\")\n",
    "print(3.0 * 4.0, \"float and float\")"
   ]
  },
  {
   "cell_type": "markdown",
   "id": "ddbefd25",
   "metadata": {},
   "source": [
    "QUESTION 1: What is the result of adding, subtracting, or multiplying two ints? (8 pts)"
   ]
  },
  {
   "cell_type": "markdown",
   "id": "36b3cd3e",
   "metadata": {},
   "source": [
    "ANSWER 1: The result will be an integer."
   ]
  },
  {
   "cell_type": "markdown",
   "id": "e9e944eb",
   "metadata": {},
   "source": [
    "QUESTION 2: What is the result of adding, subtracting, or multiplying two floats? (8 pts)"
   ]
  },
  {
   "cell_type": "markdown",
   "id": "219fd67f",
   "metadata": {},
   "source": [
    "ANSWER 2: The result will be always a float."
   ]
  },
  {
   "cell_type": "markdown",
   "id": "81923ff4",
   "metadata": {},
   "source": [
    "QUESTION 3: What is the result of adding, subtracting, or multiplying a float and an int? Does the order matter? (9 pts)"
   ]
  },
  {
   "cell_type": "markdown",
   "id": "67c19880",
   "metadata": {},
   "source": [
    "ANSWER 3: If one of two operands is float, the result will be always float. The order does not matter."
   ]
  },
  {
   "cell_type": "markdown",
   "id": "54bcd2a4",
   "metadata": {},
   "source": [
    "## Task 2\n",
    "\n",
    "Execute the following code and answer the questions below."
   ]
  },
  {
   "cell_type": "code",
   "execution_count": 6,
   "id": "218df93e",
   "metadata": {},
   "outputs": [
    {
     "name": "stdout",
     "output_type": "stream",
     "text": [
      "7.0 int and int  - division\n",
      "7.0 float and int  - division\n",
      "7.0 int and float  - division\n",
      "7.0 float and float  - division\n",
      "\n",
      "7 int and int  - floor division\n",
      "7.0 float and int  - floor division\n",
      "7.0 int and float  - floor division\n",
      "7.0 float and float  - floor division\n",
      "\n",
      "0 int and int  - modulo\n",
      "0.0 float and int  - modulo\n",
      "0.0 int and float  - modulo\n",
      "0.0 float and float  - modulo\n"
     ]
    }
   ],
   "source": [
    "print(35 / 5, \"int and int\", \" - division\")\n",
    "print(35.0 / 5, \"float and int\",  \" - division\")\n",
    "print(35 / 5.0, \"int and float\", \" - division\")\n",
    "print(35.0 / 5.0, \"float and float\", \" - division\")\n",
    "print()\n",
    "print(35 // 5, \"int and int\", \" - floor division\")\n",
    "print(35.2 // 5, \"float and int\", \" - floor division\")\n",
    "print(35 // 5.0, \"int and float\", \" - floor division\")\n",
    "print(35.0 // 5.0, \"float and float\", \" - floor division\")\n",
    "print()\n",
    "print(35 % 5, \"int and int\", \" - modulo\")\n",
    "print(35.0 % 5, \"float and int\", \" - modulo\")\n",
    "print(35 % 5.0, \"int and float\", \" - modulo\")\n",
    "print(35.0 % 5.0, \"float and float\", \" - modulo\")"
   ]
  },
  {
   "cell_type": "code",
   "execution_count": 3,
   "id": "0ebd42d2",
   "metadata": {},
   "outputs": [
    {
     "name": "stdout",
     "output_type": "stream",
     "text": [
      "2.25\n",
      "2.5\n",
      "31.2\n",
      "3.0\n",
      "0.00778816199376947\n"
     ]
    }
   ],
   "source": [
    "print(9 / 4)\n",
    "print(10 / 4)\n",
    "print(156 / 5)\n",
    "print(15 / 5)\n",
    "print(5 / 642)"
   ]
  },
  {
   "cell_type": "markdown",
   "id": "b2beee26",
   "metadata": {},
   "source": [
    "QUESTION 4: What is the result of \\[true / regular\\] division on two ints? (8 pts)"
   ]
  },
  {
   "cell_type": "markdown",
   "id": "8d83eb46",
   "metadata": {},
   "source": [
    "ANSWER 4: The result will always be float."
   ]
  },
  {
   "cell_type": "markdown",
   "id": "9e996d97",
   "metadata": {},
   "source": [
    "QUESTION 5: What is the result of \\[true / regular\\] division on two floats? (8 pts)"
   ]
  },
  {
   "cell_type": "code",
   "execution_count": 4,
   "id": "38700272",
   "metadata": {},
   "outputs": [
    {
     "name": "stdout",
     "output_type": "stream",
     "text": [
      "2.275\n",
      "2.3125961749835127\n",
      "28.676470588235293\n",
      "3.0\n",
      "0.00778816199376947\n"
     ]
    }
   ],
   "source": [
    "print(9.1 / 4.0)\n",
    "print(10.52 / 4.549)\n",
    "print(156.0 / 5.44)\n",
    "print(15.0 / 5.0)\n",
    "print(5.0 / 642.0)"
   ]
  },
  {
   "cell_type": "markdown",
   "id": "44049085",
   "metadata": {},
   "source": [
    "ANvSWER 5: The result will always be float."
   ]
  },
  {
   "cell_type": "markdown",
   "id": "372d2450",
   "metadata": {},
   "source": [
    "QUESTION 6: What is the result of \\[true / regular\\] division on a float and an int? Does the order matter? (9 pts)"
   ]
  },
  {
   "cell_type": "code",
   "execution_count": 6,
   "id": "a8eb6350",
   "metadata": {},
   "outputs": [
    {
     "name": "stdout",
     "output_type": "stream",
     "text": [
      "2.25\n",
      "2.0\n",
      "2.25\n",
      "2.0\n",
      " \n",
      "2.63\n",
      " \n",
      "10.0\n",
      "3.0\n",
      "0.007782585686268406\n"
     ]
    }
   ],
   "source": [
    "print(9 / 4.0)\n",
    "print(8 / 4.0)\n",
    "print(9.0 / 4)\n",
    "print(8.0 / 4)\n",
    "print(\" \")\n",
    "print(10.52 / 4)\n",
    "print(\" \")\n",
    "print(150 / 15.00)\n",
    "print(15.0 / 5)\n",
    "print(5 / 642.46)"
   ]
  },
  {
   "cell_type": "markdown",
   "id": "b697e74b",
   "metadata": {},
   "source": [
    "ANSWER 6: Division of float and int will always return float as a result. Order does not matter."
   ]
  },
  {
   "cell_type": "markdown",
   "id": "aa5c87c8",
   "metadata": {},
   "source": [
    "QUESTION 7: What is the result of floor division or modulus on two ints? (8 pts)"
   ]
  },
  {
   "cell_type": "code",
   "execution_count": 16,
   "id": "7cf71a5f",
   "metadata": {},
   "outputs": [
    {
     "name": "stdout",
     "output_type": "stream",
     "text": [
      "3 int and int\n",
      "3.0 float and int\n",
      "3.0 float and float\n",
      "2.9999000000000002 float and float\n",
      "3.25 float and float\n",
      " \n",
      "0.0 float and int\n",
      "0.0 float and float\n",
      "0 int and int\n",
      "2 int and int\n",
      " \n",
      "2.5199999999999996 float and int\n",
      "0.0 float and float\n",
      "0.009999999999999787 float and float\n",
      " \n",
      "5.0 int and float\n",
      "1.0 float and int\n",
      "5.0 int and float\n"
     ]
    }
   ],
   "source": [
    "print(18 % 5, \"int and int\")\n",
    "print(18 % 5.0, \"float and int\")\n",
    "print(18.0 % 5.0, \"float and float\")\n",
    "print(17.9999 % 5.0, \"float and float\")\n",
    "print(18.25 % 5.0, \"float and float\")\n",
    "print(\" \")\n",
    "print(8.0 % 4, \"float and int\")\n",
    "print(8.0 % 4.0, \"float and float\")\n",
    "print(8 % 4, \"int and int\")\n",
    "print(10 % 4, \"int and int\")\n",
    "print(\" \")\n",
    "print(10.52 % 4, \"float and int\")\n",
    "print(10.50 % 0.25, \"float and float\")\n",
    "print(10.51 % 0.25, \"float and float\")\n",
    "print(\" \")\n",
    "print(155 % 15.00, \"int and float\")\n",
    "print(15.00 % 155, \"float and int\")\n",
    "print(15.0 % 7, \"float and int\")\n",
    "print(5 % 642.0, \"int and float\")"
   ]
  },
  {
   "cell_type": "markdown",
   "id": "1338c48f",
   "metadata": {},
   "source": [
    "ANSWER 7: The result of floor division or modulus on two ints will be always an int."
   ]
  },
  {
   "cell_type": "markdown",
   "id": "2497eb69",
   "metadata": {},
   "source": [
    "QUESTION 8: What is the result of floor division or modulus on two floats? (8 pts)"
   ]
  },
  {
   "cell_type": "markdown",
   "id": "bf1564cc",
   "metadata": {},
   "source": [
    "ANvSWER 8: The result of floor division or modulus on two floats. It will always be a float."
   ]
  },
  {
   "cell_type": "markdown",
   "id": "e21dcd1b",
   "metadata": {},
   "source": [
    "QUESTION 9: What is the result of floor division or modulus on a float and an int? Does the order matter? (9 pts)"
   ]
  },
  {
   "cell_type": "markdown",
   "id": "4fde37cc",
   "metadata": {},
   "source": [
    "ANSWER 9: What is the result of floor division or modulus on a float and an int. The result will always be a float."
   ]
  },
  {
   "cell_type": "markdown",
   "id": "ae933ebf",
   "metadata": {},
   "source": [
    "## Task 3\n",
    "\n",
    "Write your own code to answer the question below."
   ]
  },
  {
   "cell_type": "code",
   "execution_count": 19,
   "id": "0bec9473",
   "metadata": {},
   "outputs": [
    {
     "name": "stdout",
     "output_type": "stream",
     "text": [
      "helloworld\n"
     ]
    }
   ],
   "source": [
    "# YOUR CODE HERE\n",
    "# print('hello' % 'world') - error\n",
    "print('hello' + 'world')\n",
    "# print('hello' - 'world') - error"
   ]
  },
  {
   "cell_type": "markdown",
   "id": "a382ad76",
   "metadata": {},
   "source": [
    "QUESTION 10: Which of the arithmetic operators we have covered can be used on two strings? (e.g. `'hello' % 'world'`) (7 pts)"
   ]
  },
  {
   "cell_type": "markdown",
   "id": "3a0717e3",
   "metadata": {},
   "source": [
    "ANSWER 10: Only concatenation of two strings can be executed."
   ]
  },
  {
   "cell_type": "markdown",
   "id": "99b32758",
   "metadata": {},
   "source": [
    "## Task 4\n",
    "\n",
    "Write your own code to answer the question below."
   ]
  },
  {
   "cell_type": "code",
   "execution_count": 30,
   "id": "b9ab507b",
   "metadata": {},
   "outputs": [
    {
     "name": "stdout",
     "output_type": "stream",
     "text": [
      "hellohellohellohellohellohellohello\n",
      "hellohellohellohellohellohellohello\n"
     ]
    }
   ],
   "source": [
    "# YOUR CODE HERE\n",
    "print('hello' * 7)\n",
    "print(7 * 'hello')\n",
    "# print('hello' + 7) - error\n",
    "# print(7 + 'hello') - error\n",
    "# print('hello' - 7) - error\n",
    "# print(7 - 'hello') - error\n",
    "# print('hello' * 7.86) - error\n",
    "# print(0.7 * 'hello') - error"
   ]
  },
  {
   "cell_type": "markdown",
   "id": "da16dad1",
   "metadata": {},
   "source": [
    "QUESTION 11: Which of the arithmetic operators we have covered can be used on a string and an int? Does the order matter? (e.g. `'hello' % 7` and `7 % 'hello'`) (9 pts)"
   ]
  },
  {
   "cell_type": "markdown",
   "id": "4a071555",
   "metadata": {},
   "source": [
    "ANSWER 11: Python interpreter can only multiply string by an int. Order does not matter."
   ]
  },
  {
   "cell_type": "markdown",
   "id": "e74e4d73",
   "metadata": {},
   "source": [
    "## Task 5\n",
    "\n",
    "Write your own code to answer the question below."
   ]
  },
  {
   "cell_type": "code",
   "execution_count": 34,
   "id": "efa2240c",
   "metadata": {},
   "outputs": [
    {
     "ename": "TypeError",
     "evalue": "can only concatenate str (not \"float\") to str",
     "output_type": "error",
     "traceback": [
      "\u001b[1;31m---------------------------------------------------------------------------\u001b[0m",
      "\u001b[1;31mTypeError\u001b[0m                                 Traceback (most recent call last)",
      "\u001b[1;32m~\\AppData\\Local\\Temp\\ipykernel_17968\\2988654645.py\u001b[0m in \u001b[0;36m<module>\u001b[1;34m\u001b[0m\n\u001b[0;32m      2\u001b[0m \u001b[1;31m# print('hello' * 7.86) - error\u001b[0m\u001b[1;33m\u001b[0m\u001b[1;33m\u001b[0m\u001b[0m\n\u001b[0;32m      3\u001b[0m \u001b[1;31m# print(0.7 * 'hello')\u001b[0m\u001b[1;33m\u001b[0m\u001b[1;33m\u001b[0m\u001b[0m\n\u001b[1;32m----> 4\u001b[1;33m \u001b[0mprint\u001b[0m\u001b[1;33m(\u001b[0m\u001b[1;34m'hello'\u001b[0m \u001b[1;33m+\u001b[0m \u001b[1;36m7.86\u001b[0m\u001b[1;33m)\u001b[0m\u001b[1;33m\u001b[0m\u001b[1;33m\u001b[0m\u001b[0m\n\u001b[0m\u001b[0;32m      5\u001b[0m \u001b[0mprint\u001b[0m\u001b[1;33m(\u001b[0m\u001b[1;36m0.7\u001b[0m \u001b[1;33m+\u001b[0m \u001b[1;34m'hello'\u001b[0m\u001b[1;33m)\u001b[0m\u001b[1;33m\u001b[0m\u001b[1;33m\u001b[0m\u001b[0m\n",
      "\u001b[1;31mTypeError\u001b[0m: can only concatenate str (not \"float\") to str"
     ]
    }
   ],
   "source": [
    "# YOUR CODE HERE\n",
    "# print('hello' * 7.86) - error\n",
    "# print(0.7 * 'hello')  - error\n",
    "# print('hello' + 7.86)  - error\n",
    "# print(0.7 + 'hello')  - error"
   ]
  },
  {
   "cell_type": "markdown",
   "id": "fdb2a7ec",
   "metadata": {},
   "source": [
    "QUESTION 12: Which of the arithmetic operators we have covered can be used on a string and an float? Does the order matter? (e.g. `'hello' % 5.2` and `5.2 % 'hello'`) (9 pts)"
   ]
  },
  {
   "cell_type": "markdown",
   "id": "f8027519",
   "metadata": {},
   "source": [
    "ANSWER 12: Python interpreter cannot add, substract or multiply or divide a float to a string. The order does not matter."
   ]
  },
  {
   "cell_type": "markdown",
   "id": "a2b7cec3",
   "metadata": {},
   "source": [
    "**REMINDER:** When you are done with this assignment, go to *File* > *Download as...* > *Python (.py)* and save your Python file. Then submit your .py file to the assignment on Canvas."
   ]
  }
 ],
 "metadata": {
  "kernelspec": {
   "display_name": "Python 3 (ipykernel)",
   "language": "python",
   "name": "python3"
  },
  "language_info": {
   "codemirror_mode": {
    "name": "ipython",
    "version": 3
   },
   "file_extension": ".py",
   "mimetype": "text/x-python",
   "name": "python",
   "nbconvert_exporter": "python",
   "pygments_lexer": "ipython3",
   "version": "3.9.13"
  }
 },
 "nbformat": 4,
 "nbformat_minor": 5
}
