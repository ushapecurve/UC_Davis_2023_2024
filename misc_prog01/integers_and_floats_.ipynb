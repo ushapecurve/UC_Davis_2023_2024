{
 "cells": [
  {
   "cell_type": "code",
   "execution_count": 5,
   "id": "e0011a81",
   "metadata": {},
   "outputs": [
    {
     "name": "stdout",
     "output_type": "stream",
     "text": [
      "10.0\n",
      "-4.0\n",
      "21.0\n",
      " \n",
      "10.0\n",
      "-4.0\n",
      "21.0\n",
      " \n",
      "8.0\n",
      "8.0\n",
      "8\n"
     ]
    }
   ],
   "source": [
    "print(3.0 + 7)\n",
    "print(3.0 - 7)\n",
    "print(3.0 * 7)\n",
    "print(\" \")\n",
    "print(3 + 7.0)\n",
    "print(3 - 7.0)\n",
    "print(3 * 7.0)\n",
    "print(\" \")\n",
    "print(32.0 // 4)\n",
    "print(32 // 4.0)\n",
    "print(32 // 4)"
   ]
  }
 ],
 "metadata": {
  "kernelspec": {
   "display_name": "Python 3 (ipykernel)",
   "language": "python",
   "name": "python3"
  },
  "language_info": {
   "codemirror_mode": {
    "name": "ipython",
    "version": 3
   },
   "file_extension": ".py",
   "mimetype": "text/x-python",
   "name": "python",
   "nbconvert_exporter": "python",
   "pygments_lexer": "ipython3",
   "version": "3.9.13"
  }
 },
 "nbformat": 4,
 "nbformat_minor": 5
}
